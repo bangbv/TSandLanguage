{
 "cells": [
  {
   "cell_type": "code",
   "execution_count": 14,
   "metadata": {},
   "outputs": [],
   "source": [
    "import pandas as pd"
   ]
  },
  {
   "cell_type": "code",
   "execution_count": 8,
   "metadata": {},
   "outputs": [],
   "source": [
    "ICBEB_PATH=\"/gscratch/bdata/datasets/ecg_ptbxl_benchmarking/data/ICBEB\""
   ]
  },
  {
   "cell_type": "code",
   "execution_count": 6,
   "metadata": {},
   "outputs": [
    {
     "name": "stdout",
     "output_type": "stream",
     "text": [
      "icbeb_database.csv  records100\trecords500\n"
     ]
    }
   ],
   "source": [
    "!ls /gscratch/bdata/datasets/ecg_ptbxl_benchmarking/data/ICBEB"
   ]
  },
  {
   "cell_type": "code",
   "execution_count": 19,
   "metadata": {},
   "outputs": [
    {
     "data": {
      "text/html": [
       "<div>\n",
       "<style scoped>\n",
       "    .dataframe tbody tr th:only-of-type {\n",
       "        vertical-align: middle;\n",
       "    }\n",
       "\n",
       "    .dataframe tbody tr th {\n",
       "        vertical-align: top;\n",
       "    }\n",
       "\n",
       "    .dataframe thead th {\n",
       "        text-align: right;\n",
       "    }\n",
       "</style>\n",
       "<table border=\"1\" class=\"dataframe\">\n",
       "  <thead>\n",
       "    <tr style=\"text-align: right;\">\n",
       "      <th></th>\n",
       "      <th>ecg_id</th>\n",
       "      <th>filename</th>\n",
       "      <th>validation</th>\n",
       "      <th>age</th>\n",
       "      <th>sex</th>\n",
       "      <th>scp_codes</th>\n",
       "      <th>patient_id</th>\n",
       "      <th>quality</th>\n",
       "      <th>strat_fold</th>\n",
       "    </tr>\n",
       "  </thead>\n",
       "  <tbody>\n",
       "    <tr>\n",
       "      <th>0</th>\n",
       "      <td>1</td>\n",
       "      <td>A0416</td>\n",
       "      <td>False</td>\n",
       "      <td>87.0</td>\n",
       "      <td>0</td>\n",
       "      <td>{'1AVB': 100}</td>\n",
       "      <td>1</td>\n",
       "      <td>0</td>\n",
       "      <td>8</td>\n",
       "    </tr>\n",
       "    <tr>\n",
       "      <th>1</th>\n",
       "      <td>2</td>\n",
       "      <td>A1600</td>\n",
       "      <td>False</td>\n",
       "      <td>54.0</td>\n",
       "      <td>1</td>\n",
       "      <td>{'STE_': 100}</td>\n",
       "      <td>2</td>\n",
       "      <td>0</td>\n",
       "      <td>9</td>\n",
       "    </tr>\n",
       "    <tr>\n",
       "      <th>2</th>\n",
       "      <td>3</td>\n",
       "      <td>A1392</td>\n",
       "      <td>False</td>\n",
       "      <td>88.0</td>\n",
       "      <td>0</td>\n",
       "      <td>{'CRBBB': 100}</td>\n",
       "      <td>3</td>\n",
       "      <td>0</td>\n",
       "      <td>10</td>\n",
       "    </tr>\n",
       "    <tr>\n",
       "      <th>3</th>\n",
       "      <td>4</td>\n",
       "      <td>A0016</td>\n",
       "      <td>False</td>\n",
       "      <td>14.0</td>\n",
       "      <td>0</td>\n",
       "      <td>{'NORM': 100}</td>\n",
       "      <td>4</td>\n",
       "      <td>0</td>\n",
       "      <td>10</td>\n",
       "    </tr>\n",
       "    <tr>\n",
       "      <th>4</th>\n",
       "      <td>5</td>\n",
       "      <td>A1974</td>\n",
       "      <td>False</td>\n",
       "      <td>23.0</td>\n",
       "      <td>1</td>\n",
       "      <td>{'1AVB': 100}</td>\n",
       "      <td>5</td>\n",
       "      <td>0</td>\n",
       "      <td>1</td>\n",
       "    </tr>\n",
       "  </tbody>\n",
       "</table>\n",
       "</div>"
      ],
      "text/plain": [
       "   ecg_id filename  validation   age  sex       scp_codes  patient_id  \\\n",
       "0       1    A0416       False  87.0    0   {'1AVB': 100}           1   \n",
       "1       2    A1600       False  54.0    1   {'STE_': 100}           2   \n",
       "2       3    A1392       False  88.0    0  {'CRBBB': 100}           3   \n",
       "3       4    A0016       False  14.0    0   {'NORM': 100}           4   \n",
       "4       5    A1974       False  23.0    1   {'1AVB': 100}           5   \n",
       "\n",
       "   quality  strat_fold  \n",
       "0        0           8  \n",
       "1        0           9  \n",
       "2        0          10  \n",
       "3        0          10  \n",
       "4        0           1  "
      ]
     },
     "execution_count": 19,
     "metadata": {},
     "output_type": "execute_result"
    }
   ],
   "source": [
    "icbeb_database = pd.read_csv(ICBEB_PATH + \"/icbeb_database.csv\", index_col=0)\n",
    "icbeb_database.head()"
   ]
  },
  {
   "cell_type": "code",
   "execution_count": 21,
   "metadata": {},
   "outputs": [
    {
     "data": {
      "text/plain": [
       "{'VPC': 100, 'STE_': 100}                   1\n",
       "{'STE_': 100, 'STD_': 100}                  1\n",
       "{'1AVB': 100, 'PAC': 100}                   1\n",
       "{'STD_': 100, 'AFIB': 100, 'CLBBB': 100}    1\n",
       "{'STE_': 100, 'VPC': 100}                   1\n",
       "{'PAC': 100, 'VPC': 100}                    1\n",
       "{'STE_': 100, 'CRBBB': 100, 'PAC': 100}     1\n",
       "{'CRBBB': 100, 'PAC': 100, 'STE_': 100}     1\n",
       "{'PAC': 100, 'STE_': 100}                   1\n",
       "{'STE_': 100, 'PAC': 100}                   1\n",
       "Name: scp_codes, dtype: int64"
      ]
     },
     "execution_count": 21,
     "metadata": {},
     "output_type": "execute_result"
    }
   ],
   "source": [
    "icbeb_database[\"scp_codes\"].value_counts()[-10:]"
   ]
  },
  {
   "cell_type": "code",
   "execution_count": null,
   "metadata": {},
   "outputs": [],
   "source": []
  }
 ],
 "metadata": {
  "kernelspec": {
   "display_name": "SensingResearch",
   "language": "python",
   "name": "python3"
  },
  "language_info": {
   "codemirror_mode": {
    "name": "ipython",
    "version": 3
   },
   "file_extension": ".py",
   "mimetype": "text/x-python",
   "name": "python",
   "nbconvert_exporter": "python",
   "pygments_lexer": "ipython3",
   "version": "3.9.18"
  },
  "orig_nbformat": 4
 },
 "nbformat": 4,
 "nbformat_minor": 2
}
