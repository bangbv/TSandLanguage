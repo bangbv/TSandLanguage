{
 "cells": [
  {
   "cell_type": "code",
   "execution_count": 29,
   "metadata": {},
   "outputs": [],
   "source": [
    "from src.utils import read_jsonl\n",
    "from src.models.models.llava import MatplotlibEncoder\n",
    "import os\n",
    "import torch\n",
    "from PIL import Image\n",
    "from tqdm import tqdm\n",
    "import numpy as np\n"
   ]
  },
  {
   "cell_type": "code",
   "execution_count": 30,
   "metadata": {},
   "outputs": [],
   "source": [
    "SPLITS = [\"train\",\"val\",\"test\"]\n",
    "BASE_PATH = \"/gscratch/bdata/mikeam/TSandLanguage/data/processed/ts2desc/\"\n",
    "IMG_PATH = \"/gscratch/bdata/mikeam/TSandLanguage/data/processed/ts_as_img\"\n"
   ]
  },
  {
   "cell_type": "code",
   "execution_count": 33,
   "metadata": {},
   "outputs": [
    {
     "name": "stdout",
     "output_type": "stream",
     "text": [
      "Processing train\n",
      "Processing val\n",
      "Processing test\n"
     ]
    }
   ],
   "source": [
    "encoder = MatplotlibEncoder()\n",
    "\n",
    "for split in SPLITS:\n",
    "    print(\"Processing {}\".format(split))\n",
    "    os.makedirs(IMG_PATH + \"/\"+split, exist_ok=True)\n",
    "    data = read_jsonl(BASE_PATH + split + \".json\")\n",
    "    for d in data:\n",
    "        ts = d[\"series\"]\n",
    "        ts_id = d[\"uuid\"]\n",
    "        img_array = encoder([torch.Tensor(ts)]).numpy()[0]\n",
    "        # Save as numpy array image\n",
    "        im = Image.fromarray(np.uint8(img_array.transpose(1,2,0) * 255))\n",
    "        im.save(os.path.join(IMG_PATH, split, ts_id + \".png\"))\n"
   ]
  },
  {
   "cell_type": "code",
   "execution_count": 42,
   "metadata": {},
   "outputs": [],
   "source": [
    "import pandas as pd\n",
    "\n",
    "for split in SPLITS:\n",
    "    data = read_jsonl(BASE_PATH + split + \".json\")\n",
    "    df = pd.DataFrame({'image_path': [os.path.join(IMG_PATH, split, d[\"uuid\"] + \".png\") for d in data],\n",
    "                       'caption': [d[\"description_short\"] for d in data]})\n",
    "    df.to_csv(IMG_PATH + \"/\" + spli t + \".csv\", index=False)\n"
   ]
  },
  {
   "cell_type": "code",
   "execution_count": 35,
   "metadata": {},
   "outputs": [
    {
     "data": {
      "text/plain": [
       "'/gscratch/bdata/mikeam/TSandLanguage/data/processed/ts2desc/'"
      ]
     },
     "execution_count": 35,
     "metadata": {},
     "output_type": "execute_result"
    }
   ],
   "source": [
    "BASE_PATH"
   ]
  },
  {
   "cell_type": "code",
   "execution_count": 27,
   "metadata": {},
   "outputs": [
    {
     "ename": "ValueError",
     "evalue": "axes don't match array",
     "output_type": "error",
     "traceback": [
      "\u001b[0;31m---------------------------------------------------------------------------\u001b[0m",
      "\u001b[0;31mValueError\u001b[0m                                Traceback (most recent call last)",
      "\u001b[1;32m/gscratch/bdata/mikeam/TSandLanguage/notebooks/mam/prepare_for_clip_tuning.ipynb Cell 5\u001b[0m line \u001b[0;36m1\n\u001b[0;32m----> <a href='vscode-notebook-cell://ssh-remote%2Bklone-node/gscratch/bdata/mikeam/TSandLanguage/notebooks/mam/prepare_for_clip_tuning.ipynb#W4sdnNjb2RlLXJlbW90ZQ%3D%3D?line=0'>1</a>\u001b[0m img_array\u001b[39m.\u001b[39;49mtranspose(\u001b[39m1\u001b[39;49m,\u001b[39m2\u001b[39;49m,\u001b[39m0\u001b[39;49m)\n",
      "\u001b[0;31mValueError\u001b[0m: axes don't match array"
     ]
    }
   ],
   "source": [
    "img_array.transpose(1,2,0)"
   ]
  },
  {
   "cell_type": "code",
   "execution_count": null,
   "metadata": {},
   "outputs": [],
   "source": []
  }
 ],
 "metadata": {
  "kernelspec": {
   "display_name": "TSandLang",
   "language": "python",
   "name": "python3"
  },
  "language_info": {
   "codemirror_mode": {
    "name": "ipython",
    "version": 3
   },
   "file_extension": ".py",
   "mimetype": "text/x-python",
   "name": "python",
   "nbconvert_exporter": "python",
   "pygments_lexer": "ipython3",
   "version": "3.10.13"
  }
 },
 "nbformat": 4,
 "nbformat_minor": 2
}
